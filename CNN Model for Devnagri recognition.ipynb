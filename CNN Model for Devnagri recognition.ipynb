{
 "cells": [
  {
   "cell_type": "code",
   "execution_count": 1,
   "metadata": {},
   "outputs": [
    {
     "name": "stderr",
     "output_type": "stream",
     "text": [
      "Using TensorFlow backend.\n"
     ]
    }
   ],
   "source": [
    "# Importing essentials libraries\n",
    "\n",
    "from keras.layers import *\n",
    "from keras.models import Sequential, Model\n",
    "from keras import optimizers\n",
    "from keras.utils import to_categorical\n",
    "from keras.utils.vis_utils import plot_model\n",
    "from keras.preprocessing.image import ImageDataGenerator\n",
    "from keras import callbacks\n",
    "\n",
    "import matplotlib.pyplot as plt\n",
    "import seaborn as sns\n",
    "\n",
    "from sklearn.metrics import confusion_matrix,classification_report\n",
    "\n",
    "import numpy as np\n",
    "import pandas as pd\n",
    "import os"
   ]
  },
  {
   "cell_type": "code",
   "execution_count": 2,
   "metadata": {},
   "outputs": [
    {
     "name": "stdout",
     "output_type": "stream",
     "text": [
      "Found 82800 images belonging to 46 classes.\n",
      "Found 9200 images belonging to 46 classes.\n"
     ]
    }
   ],
   "source": [
    "# Intializing the Datagen\n",
    "\n",
    "datagen=ImageDataGenerator(validation_split=0.1,rescale=1./255)\n",
    "\n",
    "# Getting the classes\n",
    "\n",
    "classes_name = os.listdir('../Dataset/Devnagiri/Images/')\n",
    "\n",
    "# Creating training data\n",
    "train_generator = datagen.flow_from_directory('../Dataset/Devnagiri/Images/',\n",
    "                                              classes=classes_name,\n",
    "                                              color_mode='grayscale',\n",
    "                                              subset='training',\n",
    "                                              target_size=(32,32),\n",
    "                                              batch_size=200)\n",
    "\n",
    "# Creating validation data\n",
    "val_generator = datagen.flow_from_directory('../Dataset/Devnagiri/Images/',\n",
    "                                            classes=classes_name,\n",
    "                                            color_mode='grayscale',\n",
    "                                            subset='validation',\n",
    "                                            target_size=(32,32),\n",
    "                                            batch_size=200)\n"
   ]
  },
  {
   "cell_type": "code",
   "execution_count": 3,
   "metadata": {},
   "outputs": [],
   "source": [
    "# Intialization of model\n",
    "model = Sequential()\n",
    "\n",
    "# Adding layer 1\n",
    "model.add(Conv2D(filters=30,padding='same',activation='relu',kernel_size=(3,3),input_shape=(32,32,1)))\n",
    "model.add(Conv2D(filters=15,padding='same',activation='relu',kernel_size=(3,3)))\n",
    "model.add(MaxPooling2D(padding='same'))\n",
    "\n",
    "# Adding layer 2\n",
    "model.add(Conv2D(filters=15,padding='same',activation='relu',kernel_size=(3,3)))\n",
    "model.add(Conv2D(filters=30,padding='same',activation='relu',kernel_size=(3,3)))\n",
    "model.add(AveragePooling2D(padding='same'))\n",
    "\n",
    "# Flattening of data\n",
    "model.add(Flatten())\n",
    "\n",
    "# Adding dense layer 1\n",
    "model.add(Dropout(0.5))\n",
    "model.add(Dense(units=1380,activation='relu'))\n",
    "\n",
    "# Adding dense layer 2\n",
    "model.add(Dropout(0.2))\n",
    "model.add(Dense(units=690,activation='relu'))\n",
    "\n",
    "# Adding output layer\n",
    "model.add(Dropout(0.1))\n",
    "model.add(Dense(units=46,activation='softmax'))\n",
    "\n",
    "# Compiling model\n",
    "model.compile(optimizer='adam',loss='categorical_crossentropy',metrics=['accuracy'])"
   ]
  },
  {
   "cell_type": "code",
   "execution_count": 4,
   "metadata": {},
   "outputs": [
    {
     "name": "stdout",
     "output_type": "stream",
     "text": [
      "Model: \"sequential_1\"\n",
      "_________________________________________________________________\n",
      "Layer (type)                 Output Shape              Param #   \n",
      "=================================================================\n",
      "conv2d_1 (Conv2D)            (None, 32, 32, 30)        300       \n",
      "_________________________________________________________________\n",
      "conv2d_2 (Conv2D)            (None, 32, 32, 15)        4065      \n",
      "_________________________________________________________________\n",
      "max_pooling2d_1 (MaxPooling2 (None, 16, 16, 15)        0         \n",
      "_________________________________________________________________\n",
      "conv2d_3 (Conv2D)            (None, 16, 16, 15)        2040      \n",
      "_________________________________________________________________\n",
      "conv2d_4 (Conv2D)            (None, 16, 16, 30)        4080      \n",
      "_________________________________________________________________\n",
      "average_pooling2d_1 (Average (None, 8, 8, 30)          0         \n",
      "_________________________________________________________________\n",
      "flatten_1 (Flatten)          (None, 1920)              0         \n",
      "_________________________________________________________________\n",
      "dropout_1 (Dropout)          (None, 1920)              0         \n",
      "_________________________________________________________________\n",
      "dense_1 (Dense)              (None, 1380)              2650980   \n",
      "_________________________________________________________________\n",
      "dropout_2 (Dropout)          (None, 1380)              0         \n",
      "_________________________________________________________________\n",
      "dense_2 (Dense)              (None, 690)               952890    \n",
      "_________________________________________________________________\n",
      "dropout_3 (Dropout)          (None, 690)               0         \n",
      "_________________________________________________________________\n",
      "dense_3 (Dense)              (None, 46)                31786     \n",
      "=================================================================\n",
      "Total params: 3,646,141\n",
      "Trainable params: 3,646,141\n",
      "Non-trainable params: 0\n",
      "_________________________________________________________________\n"
     ]
    }
   ],
   "source": [
    "# Model Summary\n",
    "\n",
    "model.summary()"
   ]
  },
  {
   "cell_type": "code",
   "execution_count": 5,
   "metadata": {},
   "outputs": [
    {
     "name": "stdout",
     "output_type": "stream",
     "text": [
      "Epoch 1/6\n",
      "460/460 [==============================] - 205s 446ms/step - loss: 0.7230 - accuracy: 0.7922 - val_loss: 0.4468 - val_accuracy: 0.8513\n",
      "Epoch 2/6\n",
      "460/460 [==============================] - 209s 455ms/step - loss: 0.1986 - accuracy: 0.9382 - val_loss: 0.2984 - val_accuracy: 0.8793\n",
      "Epoch 3/6\n",
      "460/460 [==============================] - 215s 467ms/step - loss: 0.1279 - accuracy: 0.9594 - val_loss: 0.3035 - val_accuracy: 0.8940\n",
      "Epoch 4/6\n",
      "460/460 [==============================] - 208s 453ms/step - loss: 0.0977 - accuracy: 0.9691 - val_loss: 0.4235 - val_accuracy: 0.9063\n",
      "Epoch 5/6\n",
      "460/460 [==============================] - 205s 446ms/step - loss: 0.0793 - accuracy: 0.9741 - val_loss: 0.4432 - val_accuracy: 0.9116\n",
      "Epoch 6/6\n",
      "460/460 [==============================] - 214s 464ms/step - loss: 0.0655 - accuracy: 0.9786 - val_loss: 0.4248 - val_accuracy: 0.9097\n"
     ]
    }
   ],
   "source": [
    "history = model.fit_generator(train_generator,epochs=6,steps_per_epoch=460,validation_data=val_generator)"
   ]
  },
  {
   "cell_type": "code",
   "execution_count": 6,
   "metadata": {},
   "outputs": [
    {
     "data": {
      "image/png": "[encoded data removed]",
      "text/plain": [
       "<Figure size 1296x720 with 2 Axes>"
      ]
     },
     "metadata": {
      "needs_background": "light"
     },
     "output_type": "display_data"
    }
   ],
   "source": [
    "# Plot the loss and accuracy curves for training and validation \n",
    "\n",
    "fig, ax = plt.subplots(2,1, figsize=(18, 10))\n",
    "ax[0].plot(history.history['loss'], color='b', label=\"Training loss\")\n",
    "ax[0].plot(history.history['val_loss'], color='r', label=\"validation loss\",axes =ax[0])\n",
    "legend = ax[0].legend(loc='best', shadow=True)\n",
    "\n",
    "ax[1].plot(history.history['accuracy'], color='b', label=\"Training accuracy\")\n",
    "ax[1].plot(history.history['val_accuracy'], color='r',label=\"Validation accuracy\")\n",
    "legend = ax[1].legend(loc='best', shadow=True)"
   ]
  },
  {
   "cell_type": "code",
   "execution_count": 7,
   "metadata": {},
   "outputs": [
    {
     "name": "stdout",
     "output_type": "stream",
     "text": [
      "Max Validation Accuracy = 91.16304516792297 %\n"
     ]
    }
   ],
   "source": [
    "# Max Validation Accuracy\n",
    "print('Max Validation Accuracy =',max(history.history['val_accuracy'])*100,'%')"
   ]
  },
  {
   "cell_type": "code",
   "execution_count": 9,
   "metadata": {},
   "outputs": [],
   "source": [
    "model.save('devnagri.h5')"
   ]
  },
  {
   "cell_type": "code",
   "execution_count": null,
   "metadata": {},
   "outputs": [],
   "source": []
  }
 ],
 "metadata": {
  "kernelspec": {
   "display_name": "Python 3",
   "language": "python",
   "name": "python3"
  },
  "language_info": {
   "codemirror_mode": {
    "name": "ipython",
    "version": 3
   },
   "file_extension": ".py",
   "mimetype": "text/x-python",
   "name": "python",
   "nbconvert_exporter": "python",
   "pygments_lexer": "ipython3",
   "version": "3.6.10"
  }
 },
 "nbformat": 4,
 "nbformat_minor": 4
}
